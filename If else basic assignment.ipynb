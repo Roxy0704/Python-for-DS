{
 "cells": [
  {
   "cell_type": "markdown",
   "id": "13ac3791-9f6c-4b82-a8d2-e2bca7c8193b",
   "metadata": {},
   "source": [
    "## 1. Discount Price of 10% if price is grater than 500 else 5% discount"
   ]
  },
  {
   "cell_type": "code",
   "execution_count": 12,
   "id": "fcb5287b-110d-492e-84e9-c6b8af8057d4",
   "metadata": {},
   "outputs": [
    {
     "name": "stdin",
     "output_type": "stream",
     "text": [
      "Enter Price 550\n"
     ]
    },
    {
     "name": "stdout",
     "output_type": "stream",
     "text": [
      "Congratulations you have received 10% discount of  495.0\n"
     ]
    }
   ],
   "source": [
    "#variable\n",
    "price = eval(input(\"Enter Price\"))\n",
    "\n",
    "final_price1 = price - (price*0.1)    #Discounted price of 10%\n",
    "final_price2 = price - (price*0.05)   #Discounted price of 5%\n",
    "\n",
    "if price > 500:\n",
    "    print(\"Congratulations you have received 10% discount of \",final_price1)\n",
    "else:\n",
    "    print(\"Congratulations you have received 5% discount of \",final_price2)"
   ]
  },
  {
   "cell_type": "markdown",
   "id": "74f154f7-a477-4a66-ae8e-ed9010bccccf",
   "metadata": {},
   "source": [
    "## 2.odd or even"
   ]
  },
  {
   "cell_type": "code",
   "execution_count": 4,
   "id": "1535b336-7e6f-435e-970c-48ccb5171880",
   "metadata": {},
   "outputs": [
    {
     "name": "stdin",
     "output_type": "stream",
     "text": [
      "Enter a number 7\n"
     ]
    },
    {
     "name": "stdout",
     "output_type": "stream",
     "text": [
      "It is an odd number\n"
     ]
    }
   ],
   "source": [
    "#variable\n",
    "num1 = int(input(\"Enter a number\"))\n",
    "num = num1 % 2\n",
    "\n",
    "if num == 0:\n",
    "    print(\"This is an even number\")\n",
    "else:\n",
    "    print(\"It is an odd number\")"
   ]
  },
  {
   "cell_type": "markdown",
   "id": "5c8c34d0-7fd8-4397-8778-1518fd7d7d85",
   "metadata": {},
   "source": [
    "## 3. Take the user's age as input. If the age is above 18 or above, display \"Eligible to drive\" else \"not eligible to drive\""
   ]
  },
  {
   "cell_type": "code",
   "execution_count": 18,
   "id": "924f42dd-d290-4cf6-8dd0-671218a4ee5e",
   "metadata": {},
   "outputs": [
    {
     "name": "stdin",
     "output_type": "stream",
     "text": [
      "Enter your age 20\n"
     ]
    },
    {
     "name": "stdout",
     "output_type": "stream",
     "text": [
      "You are eligible to drive\n"
     ]
    }
   ],
   "source": [
    "# variable\n",
    "age = int(input(\"Enter your age\"))\n",
    "\n",
    "if age>18:\n",
    "    print(\"You are eligible to drive\")\n",
    "else:\n",
    "    print(\"You are not eligible to drive\")"
   ]
  },
  {
   "cell_type": "markdown",
   "id": "15c58869-6bad-402c-8dab-20ad0f502673",
   "metadata": {},
   "source": [
    "## 4. Store Timing  \n",
    "## Write a program that asks the current time (24-hour format). If the time is between 9 AM and 9 PM, print \"Store is open\"; otherwise, print \"Store is closed.\" "
   ]
  },
  {
   "cell_type": "code",
   "execution_count": 13,
   "id": "749a6a52-01a0-4575-a927-65ee4ffb6a27",
   "metadata": {},
   "outputs": [
    {
     "name": "stdin",
     "output_type": "stream",
     "text": [
      "Enter Time 24hrs format: 6\n"
     ]
    },
    {
     "name": "stdout",
     "output_type": "stream",
     "text": [
      "Store is Open\n"
     ]
    }
   ],
   "source": [
    "#variable\n",
    "enter_time = int(input(\"Enter Time 24hrs format:\"))\n",
    "\n",
    "if 9 > enter_time < 21:\n",
    "    print(\"Store is Open\")\n",
    "else:\n",
    "    print(\"Store is Closed\")"
   ]
  },
  {
   "cell_type": "markdown",
   "id": "8978ab8f-dd66-4697-b6e3-89999827c854",
   "metadata": {},
   "source": [
    "## 5.Pass or Fail  \n",
    "## Take the user's marks as input.  If the marks are 40 or above, print \"Pass\"; otherwise, print \"Fail.\" "
   ]
  },
  {
   "cell_type": "code",
   "execution_count": 18,
   "id": "88626ac8-6599-4054-b64c-4318be3b1ed5",
   "metadata": {},
   "outputs": [
    {
     "name": "stdin",
     "output_type": "stream",
     "text": [
      "Enter you marks: 40\n"
     ]
    },
    {
     "name": "stdout",
     "output_type": "stream",
     "text": [
      "pass\n"
     ]
    }
   ],
   "source": [
    "#variable\n",
    "enter_marks = int(input(\"Enter you marks:\"))\n",
    "\n",
    "if enter_marks >=40:\n",
    "    print(\"pass\")\n",
    "else:\n",
    "    print(\"Fail\")"
   ]
  },
  {
   "cell_type": "markdown",
   "id": "c96a527e-ff4c-4906-a3ab-7babebf3073c",
   "metadata": {},
   "source": [
    "## 6. Prime Membership  \n",
    "## Write a program that asks if the user has a Prime membership.  If the user enters \"yes,\" offer free delivery; otherwise, charge ₹50 for delivery."
   ]
  },
  {
   "cell_type": "code",
   "execution_count": 23,
   "id": "bca57218-f104-4780-938b-b60943d03500",
   "metadata": {},
   "outputs": [
    {
     "name": "stdin",
     "output_type": "stream",
     "text": [
      "Do you have prime membership yes or no: no\n"
     ]
    },
    {
     "name": "stdout",
     "output_type": "stream",
     "text": [
      "Your delivery charge is Rs 50\n"
     ]
    }
   ],
   "source": [
    "#variable\n",
    "prime_membership = str.lower(input(\"Do you have prime membership yes or no:\"))\n",
    "\n",
    "if prime_membership == 'yes':\n",
    "    print(\"Congratulation! your delivery is free on this order.\")\n",
    "else:\n",
    "    print(\"Your delivery charge is Rs 50\")"
   ]
  },
  {
   "cell_type": "markdown",
   "id": "4ad1ec3d-55ee-4575-9cca-4ffbc2576de9",
   "metadata": {},
   "source": [
    "## 7. Leap year."
   ]
  },
  {
   "cell_type": "code",
   "execution_count": 36,
   "id": "2f9521bf-5634-43c4-b7a9-91a333b1ccbe",
   "metadata": {},
   "outputs": [
    {
     "name": "stdin",
     "output_type": "stream",
     "text": [
      "Enter year 2024\n"
     ]
    },
    {
     "name": "stdout",
     "output_type": "stream",
     "text": [
      "2024 It is a leap year\n"
     ]
    }
   ],
   "source": [
    "#variable\n",
    "year = int(input(\"Enter year\"))\n",
    "\n",
    "if year % 4 == 0:\n",
    "    if year % 100 == 0:\n",
    "        if year % 400 == 0:\n",
    "            print(f\"{year} It is a leap year.\")\n",
    "        else:\n",
    "            print(f\"{year} It is not a leap year.\")\n",
    "    else:\n",
    "        print(f\"{year} It is a leap year\")\n",
    "else:\n",
    "    print(f\"{year}It is not a leap year\")"
   ]
  },
  {
   "cell_type": "markdown",
   "id": "302bb01b-af1b-47b3-997e-5085eece755d",
   "metadata": {},
   "source": [
    "## 8. Temperature Alert  \n",
    "## Take the current temperature as input.  \n",
    "## If the temperature is above 40°C, display \"Heat Alert\"; if it’s below 0°C, display \"Cold Alert\"; \n",
    "## otherwise, display \"Normal Weather.\"  "
   ]
  },
  {
   "cell_type": "code",
   "execution_count": 44,
   "id": "ef7aa4c4-22de-43a4-b44a-ede72cd217e9",
   "metadata": {},
   "outputs": [
    {
     "name": "stdin",
     "output_type": "stream",
     "text": [
      "Enter Temprature: 6\n"
     ]
    },
    {
     "name": "stdout",
     "output_type": "stream",
     "text": [
      "Normal Weather\n"
     ]
    }
   ],
   "source": [
    "#variable\n",
    "temp = int(input(\"Enter Temprature:\"))\n",
    "\n",
    "if temp > 40:\n",
    "    print(\"Heat Alert!\")\n",
    "elif temp < 0:\n",
    "    print(\"Cold Alert!\")\n",
    "else:\n",
    "    print(\"Normal Weather\")"
   ]
  },
  {
   "cell_type": "markdown",
   "id": "8d45897f-1459-4f57-939a-7ca0acc1e4d3",
   "metadata": {},
   "source": [
    "## 9. Grade Calculator  \n",
    "Ask the user for their percentage marks.  \n",
    "Use if-else statements to print the grade based on the following:  \n",
    "90% and above: A+  \n",
    "80%–89%: A  \n",
    "70%–79%: B  \n",
    "Below 70%: C "
   ]
  },
  {
   "cell_type": "code",
   "execution_count": 58,
   "id": "55ecb99b-b343-4ba5-85a5-1534a2ce23ac",
   "metadata": {},
   "outputs": [
    {
     "name": "stdin",
     "output_type": "stream",
     "text": [
      "Enter your percentage: 65\n"
     ]
    },
    {
     "name": "stdout",
     "output_type": "stream",
     "text": [
      "C\n"
     ]
    }
   ],
   "source": [
    "#variable\n",
    "percentage =int(input(\"Enter your percentage:\"))\n",
    "\n",
    "if percentage >= 90:\n",
    "    print(\"A+\")\n",
    "elif 90 > percentage >= 80:\n",
    "    print(\"A\")\n",
    "elif 79 >= percentage >= 70:\n",
    "    print(\"B\")\n",
    "else:\n",
    "    print(\"C\")"
   ]
  },
  {
   "cell_type": "markdown",
   "id": "1c807741-504d-4b13-ad75-ee7f3a5b4a73",
   "metadata": {},
   "source": [
    "## 10.Take the balance in a bank account and thee amount the user wants to withdraw as input. If the withdrawal amount is less than or equal to the balance, print \"Withdrawal Successfull\"; otherwise, print \"Insufficient balance\"."
   ]
  },
  {
   "cell_type": "code",
   "execution_count": 21,
   "id": "eefaf125-f875-4eb9-9f6e-84f5494b09ca",
   "metadata": {},
   "outputs": [
    {
     "name": "stdin",
     "output_type": "stream",
     "text": [
      "Enter Amount 4000\n"
     ]
    },
    {
     "name": "stdout",
     "output_type": "stream",
     "text": [
      "Withdrawal Successfull\n"
     ]
    }
   ],
   "source": [
    "#variable\n",
    "total_balance = 50000\n",
    "amount = eval(input(\"Enter Amount\"))\n",
    "\n",
    "if amount<50000:\n",
    "    print(\"Withdrawal Successfull\")\n",
    "else:\n",
    "    print(\"Insufficeint Balance\")"
   ]
  },
  {
   "cell_type": "markdown",
   "id": "6cfb285b-97c0-46d3-ad38-54fd481f6429",
   "metadata": {},
   "source": [
    "## 11. Number Comparison  \n",
    "Ask the user to input two numbers.  \n",
    "Print whether the first number is greater, smaller, or equal to the second number. "
   ]
  },
  {
   "cell_type": "code",
   "execution_count": 69,
   "id": "a773c58f-bdc2-4c86-9ccf-376446afce37",
   "metadata": {},
   "outputs": [
    {
     "name": "stdin",
     "output_type": "stream",
     "text": [
      "Enter a number: 30\n",
      "Enter a number: 30\n"
     ]
    },
    {
     "name": "stdout",
     "output_type": "stream",
     "text": [
      "30 is equal to 30\n"
     ]
    }
   ],
   "source": [
    "#variable\n",
    "number1 = int(input(\"Enter a number:\"))\n",
    "number2 = int(input(\"Enter a number:\"))\n",
    "\n",
    "if number1 > number2:\n",
    "    print(f\"{number1} is greater.\")\n",
    "elif number1 < number2:\n",
    "    print(f\"{number1} is smaller.\")\n",
    "else:\n",
    "    print(f\"{number1} is equal to {number2}\")"
   ]
  },
  {
   "cell_type": "markdown",
   "id": "7ceef19b-07f6-4fe3-ad1b-f6191fbc5840",
   "metadata": {},
   "source": [
    "## 12.Check password\n",
    "1. It should be 8 or more than 8 character.\n",
    "2. It should be alpha numeric.\n",
    "3. It should not contain special charactes like \"@#$&*?\""
   ]
  },
  {
   "cell_type": "code",
   "execution_count": 63,
   "id": "6549a253-7264-4ea6-b402-620fd3842d89",
   "metadata": {},
   "outputs": [
    {
     "name": "stdin",
     "output_type": "stream",
     "text": [
      "Enter a password with atleast 8 characters abhi23456\n"
     ]
    },
    {
     "name": "stdout",
     "output_type": "stream",
     "text": [
      "Valid password\n"
     ]
    }
   ],
   "source": [
    "# Variable\n",
    "usr_pass = str(input(\"Enter a password with atleast 8 characters\"))\n",
    "\n",
    " \n",
    "if  len(usr_pass)>8:\n",
    "    if usr_pass.isalnum():\n",
    "        print(\"Valid password\")\n",
    "else:\n",
    "    print(\"Invalid password\")"
   ]
  },
  {
   "cell_type": "markdown",
   "id": "789c0f8a-bade-40e2-ae3a-cb63a68b8389",
   "metadata": {},
   "source": [
    "## 13. Evening Discount  \n",
    "If the current time is between 6 PM and 9 PM, apply a 20% discount on the product price \n",
    "entered by the user. Otherwise, no discount is applied. \n"
   ]
  },
  {
   "cell_type": "code",
   "execution_count": 85,
   "id": "c54c8297-56b2-48c7-996a-6c4e960f23f9",
   "metadata": {},
   "outputs": [
    {
     "name": "stdin",
     "output_type": "stream",
     "text": [
      "Enter current time in AM or PM: 7PM\n",
      "Enter price: 200\n"
     ]
    },
    {
     "name": "stdout",
     "output_type": "stream",
     "text": [
      "Congratulations! you have received 20% discount your discounted price is 160.0\n"
     ]
    }
   ],
   "source": [
    "#variable\n",
    "input_time = str(input(\"Enter current time in AM or PM:\"))\n",
    "enter_price = int(input(\"Enter price:\"))\n",
    "dis_price = enter_price - (enter_price * 0.20)\n",
    "\n",
    "if '6 PM' < input_time < '9 PM':\n",
    "    print(f\"Congratulations! you have received 20% discount your discounted price is {dis_price}\")\n",
    "else:\n",
    "    print(f\"Your price is {enter_price}\")"
   ]
  },
  {
   "cell_type": "markdown",
   "id": "73e47f82-02f7-4547-adaf-aa94142b02d6",
   "metadata": {},
   "source": [
    "# 14. Eligible for Voting  \n",
    "Take the user's citizenship (\"Indian\" or \"Other\") and age as input.  \n",
    "If the user is Indian and 18 or above, print \"Eligible to vote\"; otherwise, print \"Not eligible to \n",
    "vote.\"  "
   ]
  },
  {
   "cell_type": "code",
   "execution_count": 95,
   "id": "60580cd0-0e0d-430d-bbfc-179901c44da7",
   "metadata": {},
   "outputs": [
    {
     "name": "stdin",
     "output_type": "stream",
     "text": [
      "Indian or Other Indian\n",
      "Enter your age 20\n"
     ]
    },
    {
     "name": "stdout",
     "output_type": "stream",
     "text": [
      "Eligible to Vote:\n"
     ]
    }
   ],
   "source": [
    "#variable\n",
    "citizenship = str(input(\"Indian or Other\"))\n",
    "enter_age = int(input(\"Enter your age\"))\n",
    "\n",
    "if citizenship == 'Indian' and enter_age >= 18:\n",
    "    print(\"Eligible to Vote:\")\n",
    "else:\n",
    "    print(\"Not eligible to Vote:\")"
   ]
  },
  {
   "cell_type": "markdown",
   "id": "7065d325-7750-49ba-97d7-ab320f7bac12",
   "metadata": {},
   "source": [
    "##  15.Restaurant Bill Split  \n",
    "Ask the user for the number of people in a group.  \n",
    "If it’s greater than 5, apply a 15% service charge on the total bill amount entered by the user.  "
   ]
  },
  {
   "cell_type": "code",
   "execution_count": null,
   "id": "a10fa8da-6fa3-48be-b7ab-ef00fa5bfba1",
   "metadata": {},
   "outputs": [],
   "source": [
    "#Variable\n",
    "total_amt = eval(input(\"Enter total amount: \"))\n",
    "total_ppl = int(input(\"Enter total number of people: \"))\n",
    "\n",
    "final_price = total_amt + (total_amt*0.15)\n",
    "\n",
    "#condition\n",
    "if total_ppl>5:\n",
    "    print(final_price)\n",
    "else:\n",
    "    print(total_amt)"
   ]
  },
  {
   "cell_type": "markdown",
   "id": "fc6ca0ca-87e4-41c7-ae8d-7feb243be903",
   "metadata": {},
   "source": [
    "## 16. Delivery Service  \n",
    "Ask for the user's delivery location (as \"urban\" or \"rural\").  \n",
    "If the location is urban, display \"Delivery available\"; otherwise, display \"Delivery not available.\""
   ]
  },
  {
   "cell_type": "code",
   "execution_count": 102,
   "id": "137f74cc-ec59-44ca-974a-6337c0d6e431",
   "metadata": {},
   "outputs": [
    {
     "name": "stdin",
     "output_type": "stream",
     "text": [
      "Enter you Location 'urban' or 'rural': urban\n"
     ]
    },
    {
     "name": "stdout",
     "output_type": "stream",
     "text": [
      "Delivery Available\n"
     ]
    }
   ],
   "source": [
    "#variable\n",
    "location = str.lower(input(\"Enter you Location 'urban' or 'rural':\"))\n",
    "\n",
    "if location == 'urban':\n",
    "    print(\"Delivery Available\")\n",
    "else:\n",
    "    print(\"Delivery not available\")"
   ]
  },
  {
   "cell_type": "markdown",
   "id": "2e537518-b481-41c2-a6bf-be79f8834e99",
   "metadata": {},
   "source": [
    "## 17. BMI Calculator  \n",
    "Take the user’s weight (in kg) and height (in meters) as input and calculate their BMI. \n",
    "If BMI < 18.5, display \"Underweight\"; 18.5–24.9, display \"Normal\"; otherwise, display \n",
    "\"Overweight.\""
   ]
  },
  {
   "cell_type": "code",
   "execution_count": 22,
   "id": "80b0197a-823b-4bfc-b1a3-93b6daee8c47",
   "metadata": {},
   "outputs": [
    {
     "name": "stdin",
     "output_type": "stream",
     "text": [
      "Enter your weight(kg): 59\n",
      "Enter your height(m): 1.7\n"
     ]
    },
    {
     "name": "stdout",
     "output_type": "stream",
     "text": [
      "Normal\n"
     ]
    }
   ],
   "source": [
    "##variable\n",
    "weight = eval(input(\"Enter your weight(kg):\"))\n",
    "height = eval(input(\"Enter your height(m):\"))\n",
    "\n",
    "BMI = weight / (height)**2\n",
    "\n",
    "if 18.5 < BMI < 24.9:\n",
    "    print(\"Normal\")\n",
    "elif BMI < 18.5:\n",
    "    print(\"Underweight\")\n",
    "else:\n",
    "    print(\"Overweight\")"
   ]
  },
  {
   "cell_type": "markdown",
   "id": "3bff79d3-1740-4f7b-a4d3-d445e90eab8a",
   "metadata": {},
   "source": [
    "## 18. Weekend Check  \n",
    "Ask the user to input a day of the week.  \n",
    "If it’s Saturday or Sunday, print \"Weekend\"; otherwise, print \"Weekday.\" "
   ]
  },
  {
   "cell_type": "code",
   "execution_count": 41,
   "id": "70cc6a41-808a-46f2-ac86-393ef63a0308",
   "metadata": {},
   "outputs": [
    {
     "name": "stdin",
     "output_type": "stream",
     "text": [
      "Enter the day of week Monday\n"
     ]
    },
    {
     "name": "stdout",
     "output_type": "stream",
     "text": [
      "Weekday\n"
     ]
    }
   ],
   "source": [
    "#variable\n",
    "day_input = str(input(\"Enter the day of week\"))\n",
    "\n",
    "if day_input in ['Saturday','Sunday']:\n",
    "    print(\"Weekend\")\n",
    "elif day_input in ['Monday', 'Tuesday', 'Wednesday', 'Thursday', 'Friday']:\n",
    "    print(\"Weekday\")\n",
    "else:\n",
    "    print(\"Enter Valid day\")"
   ]
  },
  {
   "cell_type": "markdown",
   "id": "06eda5ce-cd8d-43fa-9efd-3e7eae67aeaa",
   "metadata": {},
   "source": [
    "## 19. Flight Fare Check  \n",
    "Take the age of a passenger as input.  \n",
    "If the passenger is below 12 or above 60, apply a 50% discount on the fare entered by the user; \n",
    "otherwise, charge the full fare. "
   ]
  },
  {
   "cell_type": "code",
   "execution_count": null,
   "id": "3f54e178-a5b4-44b3-8513-57526d01c6b1",
   "metadata": {},
   "outputs": [],
   "source": [
    "#Variable\n",
    "fair_price = eval(input(\"Enter Fair price\"))\n",
    "age = int(input(\"Enter your age\"))\n",
    "\n",
    "dis_price = fair_price - (fair_price*0.50)\n",
    "\n",
    "#condition\n",
    "if age<12 or age>60:\n",
    "    print(dis_price)\n",
    "else:\n",
    "    print(fair_price)"
   ]
  },
  {
   "cell_type": "markdown",
   "id": "f2903864-be0c-4a81-b187-9a69bd545e73",
   "metadata": {},
   "source": [
    "## 20. Electricity Bill  \n",
    "Ask the user for the number of electricity units consumed.  \n",
    "If units are:  \n",
    "Less than or equal to 100: Charge ₹5 per unit.  \n",
    "Between 101 and 300: Charge ₹10 per unit.  \n",
    "Above 300: Charge ₹15 per unit."
   ]
  },
  {
   "cell_type": "code",
   "execution_count": null,
   "id": "af6ecb38-df2d-4831-8469-d67a9e8f0ffc",
   "metadata": {},
   "outputs": [],
   "source": [
    "#Variable\n",
    "units_consumed = eval(input(\"Enter total number of units used:\"))\n",
    "\n",
    "less_than_100 = units_consumed * 5\n",
    "btwn_101_300 = units_consumed * 10\n",
    "above_300 = units_consumed * 15\n",
    "\n",
    "#condition1\n",
    "if units_consumed <= 100:\n",
    "    print(less_than_100)\n",
    "    if units_consumed>101 or units_consumed<300:\n",
    "            print(btwn_101_300)\n",
    "else:\n",
    "    print(above_300)"
   ]
  }
 ],
 "metadata": {
  "kernelspec": {
   "display_name": "Python [conda env:base] *",
   "language": "python",
   "name": "conda-base-py"
  },
  "language_info": {
   "codemirror_mode": {
    "name": "ipython",
    "version": 3
   },
   "file_extension": ".py",
   "mimetype": "text/x-python",
   "name": "python",
   "nbconvert_exporter": "python",
   "pygments_lexer": "ipython3",
   "version": "3.12.7"
  }
 },
 "nbformat": 4,
 "nbformat_minor": 5
}
